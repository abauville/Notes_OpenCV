{
 "cells": [
  {
   "cell_type": "markdown",
   "id": "fcd2d641-50d8-41fb-9670-369e5f2c9fcc",
   "metadata": {},
   "source": [
    "# Test OpenCV"
   ]
  },
  {
   "cell_type": "code",
   "execution_count": 1,
   "id": "041d003e-b538-4f8c-8a2b-a96e2285bf3a",
   "metadata": {},
   "outputs": [],
   "source": [
    "import matplotlib.pyplot as plt\n",
    "import cv2\n",
    "import numpy as np\n",
    "from IPython.display import display, Image\n",
    "import ipywidgets as widgets\n",
    "from ipywidgets import interact\n",
    "import threading"
   ]
  },
  {
   "cell_type": "markdown",
   "id": "329f12cc-2d39-4711-8ebc-25b7ab901dd7",
   "metadata": {},
   "source": [
    "# Display the webcam in OpenCV's own window"
   ]
  },
  {
   "cell_type": "code",
   "execution_count": null,
   "id": "a832652e-c84c-4f57-bba2-e55d778dd0ef",
   "metadata": {},
   "outputs": [],
   "source": [
    "cap = cv2.VideoCapture(0)\n",
    "cap.set(3,640) # adjust width\n",
    "cap.set(4,480) # adjust height"
   ]
  },
  {
   "cell_type": "code",
   "execution_count": 6,
   "id": "f925db20-f32f-4a36-afc6-d796bb481231",
   "metadata": {},
   "outputs": [
    {
     "data": {
      "text/plain": [
       "-1"
      ]
     },
     "execution_count": 6,
     "metadata": {},
     "output_type": "execute_result"
    }
   ],
   "source": [
    "while True:\n",
    "    success, img = cap.read()\n",
    "    cv2.imshow(\"Webcam\", img)\n",
    "    if cv2.waitKey(1) & 0xFF==ord('q'): # quit when 'q' is pressed\n",
    "        \n",
    "        cap.release()\n",
    "        break\n",
    "        \n",
    "cv2.destroyAllWindows() \n",
    "cv2.waitKey(1)"
   ]
  },
  {
   "cell_type": "markdown",
   "id": "0580178d-8be0-4985-bf78-8aa46512a5d0",
   "metadata": {},
   "source": [
    "# Display the webcam inside the notebook\n",
    "display code from [there](https://stackoverflow.com/questions/27882255/is-it-possible-to-display-an-opencv-video-inside-the-ipython-jupyter-notebook). I also added a button to stop the camera"
   ]
  },
  {
   "cell_type": "code",
   "execution_count": null,
   "id": "653faad4-6a75-4c3b-8318-8b374a4a7179",
   "metadata": {},
   "outputs": [],
   "source": [
    "stopButton = widgets.ToggleButton(\n",
    "    value=False,\n",
    "    description='Stop',\n",
    "    disabled=False,\n",
    "    button_style='success', # 'success', 'info', 'warning', 'danger' or ''\n",
    "    tooltip='Description',\n",
    "    icon='check' # (FontAwesome names without the `fa-` prefix)\n",
    ")\n",
    "display(stopButton)\n",
    "def view(button):\n",
    "    cap = cv2.VideoCapture(0)\n",
    "    display_handle=display(None, display_id=True)\n",
    "    i = 0\n",
    "    while True:\n",
    "        _, frame = cap.read()\n",
    "        frame = cv2.flip(frame, 1) # if your camera reverses your image\n",
    "        _, frame = cv2.imencode('.jpeg', frame)\n",
    "        display_handle.update(Image(data=frame.tobytes()))\n",
    "        if stopButton.value==True:\n",
    "            cap.release()\n",
    "            display_handle.update(None)\n",
    "\n",
    "thread = threading.Thread(target=view, args=(stopButton,))\n",
    "thread.start()\n"
   ]
  },
  {
   "cell_type": "code",
   "execution_count": 7,
   "id": "52c80851-70bb-4bf2-b91e-2f656df4e7a7",
   "metadata": {},
   "outputs": [
    {
     "data": {
      "application/vnd.jupyter.widget-view+json": {
       "model_id": "be1d4bf35654465eba766b40b7a78abb",
       "version_major": 2,
       "version_minor": 0
      },
      "text/plain": [
       "ToggleButton(value=False, description='Stop', icon='square', tooltip='Description')"
      ]
     },
     "metadata": {},
     "output_type": "display_data"
    }
   ],
   "source": [
    "stopButton = widgets.ToggleButton(\n",
    "    value=False,\n",
    "    description='Stop',\n",
    "    disabled=False,\n",
    "    button_style='', # 'success', 'info', 'warning', 'danger' or ''\n",
    "    tooltip='Description',\n",
    "    icon='square' # (FontAwesome names without the `fa-` prefix)\n",
    ")\n",
    "display(stopButton)"
   ]
  },
  {
   "cell_type": "code",
   "execution_count": null,
   "id": "a3671f06-1ef8-4acb-ba28-9b245e1be5bb",
   "metadata": {},
   "outputs": [],
   "source": []
  }
 ],
 "metadata": {
  "kernelspec": {
   "display_name": "Python 3",
   "language": "python",
   "name": "python3"
  },
  "language_info": {
   "codemirror_mode": {
    "name": "ipython",
    "version": 3
   },
   "file_extension": ".py",
   "mimetype": "text/x-python",
   "name": "python",
   "nbconvert_exporter": "python",
   "pygments_lexer": "ipython3",
   "version": "3.9.6"
  }
 },
 "nbformat": 4,
 "nbformat_minor": 5
}
